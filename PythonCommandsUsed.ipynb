{
 "cells": [
  {
   "cell_type": "code",
   "execution_count": null,
   "metadata": {
    "collapsed": true
   },
   "outputs": [],
   "source": [
    "'''\n",
    "simplejson.loads // converting json file to python object  \n",
    "simplejson.dumps(data)\n",
    "old_file.open(\"./name\",\"mode like w+ or r+\")\n",
    "data[\"age\"] //accessing objects\n",
    "old_file.seek(0) //setting it to 0 of that file\n",
    "old_file.read or write(\"./filename\")\n",
    "import requests\n",
    "\n",
    "r=requests.get(\"http://google.com\")\n",
    "print(r.status_code)\n",
    "print(r.content)\n",
    "print(r.headers)\n",
    "f=open(\"page.html\",\"w+\")\n",
    "f.write(r.text) \n",
    "'''"
   ]
  }
 ],
 "metadata": {
  "kernelspec": {
   "display_name": "Python 2",
   "language": "python",
   "name": "python2"
  },
  "language_info": {
   "codemirror_mode": {
    "name": "ipython",
    "version": 2.0
   },
   "file_extension": ".py",
   "mimetype": "text/x-python",
   "name": "python",
   "nbconvert_exporter": "python",
   "pygments_lexer": "ipython2",
   "version": "2.7.6"
  }
 },
 "nbformat": 4,
 "nbformat_minor": 0
}